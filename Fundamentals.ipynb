{
 "cells": [
  {
   "cell_type": "markdown",
   "id": "25b083d3",
   "metadata": {},
   "source": [
    "Fundamentals\n",
    "\n",
    "\n",
    "String:"
   ]
  },
  {
   "cell_type": "code",
   "execution_count": 33,
   "id": "69496662",
   "metadata": {},
   "outputs": [
    {
     "name": "stdout",
     "output_type": "stream",
     "text": [
      "hello world\n",
      "e\n",
      "11\n",
      "o wo\n",
      "hell\n",
      "o world\n",
      "worl\n"
     ]
    }
   ],
   "source": [
    "## Fundamentals tutorial : https://www.w3schools.com/python/python_conditions.asp\n",
    "##String\n",
    "##Declaration/ Casting\n",
    "x=int(1)\n",
    "y=str(\"hello world\")\n",
    "print(y)\n",
    "print(y[1])\n",
    "\n",
    "##length\n",
    "print(len(y))\n",
    "\n",
    "##Slicing: from a to b(a,b excluded)\n",
    "print(y[4:8])\n",
    "\n",
    "##slicing from start to b (b exculed)\n",
    "print(y[:4])\n",
    "\n",
    "##slicing from a to end (a exculed)\n",
    "print(y[4:])\n",
    "\n",
    "##negative\n",
    "print(y[-5:-1])\n",
    "\n",
    "##String functionalities:\n",
    "# y.upper()\n",
    "# y.lower()\n",
    "# y.strip() ## remove whitel spce\n",
    "# y.replace()\n",
    "# y.split(\" \")\n",
    "# y.format() ##insert numbers into string by replacing {} in string with numbers specified in ()"
   ]
  },
  {
   "cell_type": "markdown",
   "id": "ee573713",
   "metadata": {},
   "source": [
    "Data Types - List, Dictonary, Set, Tuple, Range"
   ]
  },
  {
   "cell_type": "code",
   "execution_count": 56,
   "id": "7e056419",
   "metadata": {},
   "outputs": [
    {
     "name": "stdout",
     "output_type": "stream",
     "text": [
      "5\n",
      "cherry\n",
      "cherry\n",
      "['banana', 'cherry', 'apple']\n",
      "['apple', 'apple', 'banana', 'cherry', 'cherry', 'orange']\n",
      "['orange', 'cherry', 'cherry', 'banana', 'apple', 'apple']\n"
     ]
    }
   ],
   "source": [
    "##Data Types - List, Dictonary, Set, Tuple, range\n",
    "##List - ordered, changable, allow duplicates\n",
    "thislist = [\"apple\", \"banana\", \"cherry\", \"apple\", \"cherry\"]\n",
    "print(len(thislist))\n",
    "print(thislist[2])\n",
    "print(thislist[-1])\n",
    "print(thislist[1:-1])\n",
    "##thislist.insert(2, \"watermelon\")\n",
    "thislist.append(\"orange\") ##towards end of list\n",
    "thislist.sort()\n",
    "print(thislist)\n",
    "thislist.sort(reverse=True)\n",
    "print(thislist)\n",
    "\n",
    "\n",
    "tropical = [\"mango\", \"pineapple\", \"papaya\"]\n",
    "thislist.extend(tropical) ##join different lists\n",
    "thislist.remove(\"banana\") ##remove by item\n",
    "thislist.pop(1) ##remove by index\n",
    "del thislist[0] ##remove by index\n",
    "thislist.clear() ##clear list, empty list"
   ]
  },
  {
   "cell_type": "code",
   "execution_count": 58,
   "id": "9c90b142",
   "metadata": {},
   "outputs": [
    {
     "name": "stdout",
     "output_type": "stream",
     "text": [
      "3\n"
     ]
    }
   ],
   "source": [
    "##Tuple - unchangable and ordered, different datatypes, allow duplicates\n",
    "thistuple = (\"apple\", \"banana\", \"cherry\")\n",
    "print(len(thistuple))\n",
    "\n",
    "##adding and removing from tuple is carried out by converting it into list, performing the action and converting back to tuple"
   ]
  },
  {
   "cell_type": "code",
   "execution_count": 59,
   "id": "7eca89bd",
   "metadata": {},
   "outputs": [
    {
     "name": "stdout",
     "output_type": "stream",
     "text": [
      "{'a', 'b', 'apple', 'banana', 'cherry', 'c'}\n"
     ]
    }
   ],
   "source": [
    "##Sets- unordered, unchangable, no duplicates, any datatype\n",
    "thisset = {\"apple\", \"banana\", \"cherry\"}\n",
    "thisset1 = {\"a\", \"b\", \"c\"}\n",
    "## no changes could be made on set, but adding, removing new items is possible.\n",
    "thisset.update(thisset1) ##add sets\n",
    "print(thisset)\n",
    "\n",
    "set3 = thisset.union(thisset1)"
   ]
  },
  {
   "cell_type": "code",
   "execution_count": 64,
   "id": "d88c707a",
   "metadata": {},
   "outputs": [],
   "source": [
    "##Dictonary\n",
    "thisdict = {\n",
    "  \"brand\": \"Ford\",\n",
    "  \"model\": \"Mustang\",\n",
    "  \"year\": 1964\n",
    "}\n",
    "\n",
    "x=thisdict.get(\"model\")\n",
    "thisdict.keys()\n",
    "thisdict.values()\n",
    "thisdict.update({\"year\": 2020})"
   ]
  },
  {
   "cell_type": "markdown",
   "id": "27c5b7e5",
   "metadata": {},
   "source": [
    "Dataframes\n"
   ]
  },
  {
   "cell_type": "markdown",
   "id": "46755fab",
   "metadata": {},
   "source": [
    "pandas.DataFrame( data, index, columns, dtype, copy) - constructor, for creating data frame\n",
    "\n",
    "https://www.tutorialspoint.com/python_pandas/python_pandas_basic_functionality.htm"
   ]
  },
  {
   "cell_type": "code",
   "execution_count": 85,
   "id": "72a3e298",
   "metadata": {},
   "outputs": [
    {
     "name": "stdout",
     "output_type": "stream",
     "text": [
      "     Name  Age\n",
      "a    Alex   10\n",
      "b     Bob   12\n",
      "c  Clarke   13\n",
      "d    John   15\n"
     ]
    }
   ],
   "source": [
    "import pandas as pd\n",
    "df = [['Alex',10],['Bob',12],['Clarke',13],['John',15]]\n",
    "df = pd.DataFrame(df,columns=['Name','Age'], index=['a','b','c','d'])\n",
    "print(df)"
   ]
  },
  {
   "cell_type": "code",
   "execution_count": 86,
   "id": "3c528084",
   "metadata": {},
   "outputs": [
    {
     "data": {
      "text/plain": [
       "a      Alex\n",
       "b       Bob\n",
       "c    Clarke\n",
       "d      John\n",
       "Name: Name, dtype: object"
      ]
     },
     "execution_count": 86,
     "metadata": {},
     "output_type": "execute_result"
    }
   ],
   "source": [
    "df['Name'] ##Column selection"
   ]
  },
  {
   "cell_type": "code",
   "execution_count": 87,
   "id": "5dc5dfe4",
   "metadata": {},
   "outputs": [],
   "source": [
    "df['year']=pd.Series([1990,1991,1992,1993]) ##Column Addition"
   ]
  },
  {
   "cell_type": "code",
   "execution_count": 73,
   "id": "91309075",
   "metadata": {},
   "outputs": [
    {
     "data": {
      "text/html": [
       "<div>\n",
       "<style scoped>\n",
       "    .dataframe tbody tr th:only-of-type {\n",
       "        vertical-align: middle;\n",
       "    }\n",
       "\n",
       "    .dataframe tbody tr th {\n",
       "        vertical-align: top;\n",
       "    }\n",
       "\n",
       "    .dataframe thead th {\n",
       "        text-align: right;\n",
       "    }\n",
       "</style>\n",
       "<table border=\"1\" class=\"dataframe\">\n",
       "  <thead>\n",
       "    <tr style=\"text-align: right;\">\n",
       "      <th></th>\n",
       "      <th>Name</th>\n",
       "      <th>Age</th>\n",
       "      <th>year</th>\n",
       "    </tr>\n",
       "  </thead>\n",
       "  <tbody>\n",
       "    <tr>\n",
       "      <th>0</th>\n",
       "      <td>Alex</td>\n",
       "      <td>10</td>\n",
       "      <td>1990</td>\n",
       "    </tr>\n",
       "    <tr>\n",
       "      <th>1</th>\n",
       "      <td>Bob</td>\n",
       "      <td>12</td>\n",
       "      <td>1991</td>\n",
       "    </tr>\n",
       "    <tr>\n",
       "      <th>2</th>\n",
       "      <td>Clarke</td>\n",
       "      <td>13</td>\n",
       "      <td>1992</td>\n",
       "    </tr>\n",
       "  </tbody>\n",
       "</table>\n",
       "</div>"
      ],
      "text/plain": [
       "     Name  Age  year\n",
       "0    Alex   10  1990\n",
       "1     Bob   12  1991\n",
       "2  Clarke   13  1992"
      ]
     },
     "execution_count": 73,
     "metadata": {},
     "output_type": "execute_result"
    }
   ],
   "source": [
    "del df['year'] ##Column Deletion"
   ]
  },
  {
   "cell_type": "code",
   "execution_count": 88,
   "id": "46d21ec7",
   "metadata": {},
   "outputs": [
    {
     "data": {
      "text/plain": [
       "Name    Bob\n",
       "Age      12\n",
       "year    NaN\n",
       "Name: b, dtype: object"
      ]
     },
     "execution_count": 88,
     "metadata": {},
     "output_type": "execute_result"
    }
   ],
   "source": [
    "df.loc['b']  ##Row selection - row label"
   ]
  },
  {
   "cell_type": "code",
   "execution_count": 81,
   "id": "71d79675",
   "metadata": {},
   "outputs": [
    {
     "data": {
      "text/plain": [
       "Name    Bob\n",
       "Age      12\n",
       "year    NaN\n",
       "Name: b, dtype: object"
      ]
     },
     "execution_count": 81,
     "metadata": {},
     "output_type": "execute_result"
    }
   ],
   "source": [
    "df.iloc[1] ##Row selection - integer location"
   ]
  },
  {
   "cell_type": "code",
   "execution_count": 90,
   "id": "b3d06446",
   "metadata": {},
   "outputs": [
    {
     "name": "stdout",
     "output_type": "stream",
     "text": [
      "     Name  Age  year\n",
      "b     Bob   12   NaN\n",
      "c  Clarke   13   NaN\n"
     ]
    }
   ],
   "source": [
    "print(df[1:3])"
   ]
  },
  {
   "cell_type": "code",
   "execution_count": null,
   "id": "0950eabd",
   "metadata": {},
   "outputs": [],
   "source": [
    "Time series: https://www.dataquest.io/blog/tutorial-time-series-analysis-with-pandas/"
   ]
  }
 ],
 "metadata": {
  "kernelspec": {
   "display_name": "Python 3",
   "language": "python",
   "name": "python3"
  },
  "language_info": {
   "codemirror_mode": {
    "name": "ipython",
    "version": 3
   },
   "file_extension": ".py",
   "mimetype": "text/x-python",
   "name": "python",
   "nbconvert_exporter": "python",
   "pygments_lexer": "ipython3",
   "version": "3.8.8"
  }
 },
 "nbformat": 4,
 "nbformat_minor": 5
}
