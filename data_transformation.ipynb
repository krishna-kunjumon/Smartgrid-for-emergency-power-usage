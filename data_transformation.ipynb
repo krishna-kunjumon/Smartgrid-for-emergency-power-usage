{
 "cells": [
  {
   "cell_type": "code",
   "execution_count": null,
   "id": "d2ebaf79",
   "metadata": {},
   "outputs": [],
   "source": [
    "##Importing necessary Libraries\n",
    "import pandas as pd\n",
    "import numpy as np\n",
    "import matplotlib.pyplot as plot\n",
    "import seaborn as sns\n",
    "plot.style.use('fivethirtyeight')\n",
    "# Above is a special style template for matplotlib, highly useful for visualizing time series data\n",
    "##Apply the default default seaborn theme, scaling, and color palette.\n",
    "sns.set(rc={'figure.figsize':(11, 4)})"
   ]
  },
  {
   "cell_type": "code",
   "execution_count": null,
   "id": "ac699c85",
   "metadata": {},
   "outputs": [],
   "source": [
    "import warnings\n",
    "##This is the base class of all warning category classes. It is a subclass of Exception.\n",
    "warnings.filterwarnings('ignore')\n",
    "##The warnings filter controls whether warnings are ignored, displayed, or turned into errors (raising an exception)."
   ]
  },
  {
   "cell_type": "markdown",
   "id": "b5448628",
   "metadata": {},
   "source": [
    "# Processing Load Data: "
   ]
  },
  {
   "cell_type": "markdown",
   "id": "486567af",
   "metadata": {},
   "source": [
    "Load data of past 4 years is processed and combined into a single dataframe from 4 different csv."
   ]
  },
  {
   "cell_type": "code",
   "execution_count": null,
   "id": "ef0de588",
   "metadata": {},
   "outputs": [],
   "source": [
    "##Importing Load data\n",
    "load_2015=pd.read_csv('Load/PUB_Demand_2015.csv')\n",
    "load_2016=pd.read_csv('Load/PUB_Demand_2016.csv')\n",
    "load_2017=pd.read_csv('Load/PUB_Demand_2017.csv')\n",
    "load_2018=pd.read_csv('Load/PUB_Demand_2018.csv')\n",
    "load_2019=pd.read_csv('Load/PUB_Demand_2019.csv')\n",
    "load_2020=pd.read_csv('Load/PUB_Demand_2020.csv')\n",
    "load_2021=pd.read_csv('Load/PUB_Demand_2021.csv')"
   ]
  },
  {
   "cell_type": "code",
   "execution_count": null,
   "id": "4efcebe8",
   "metadata": {
    "scrolled": true
   },
   "outputs": [],
   "source": [
    "##Printing number of rows and columns\n",
    "print(load_2015.shape)\n",
    "print(load_2016.shape)\n",
    "print(load_2017.shape)\n",
    "print(load_2018.shape)\n",
    "print(load_2019.shape)\n",
    "print(load_2020.shape)\n",
    "print(load_2021.shape)"
   ]
  },
  {
   "cell_type": "code",
   "execution_count": null,
   "id": "57d1f1e2",
   "metadata": {},
   "outputs": [],
   "source": [
    "load_2015.head()"
   ]
  },
  {
   "cell_type": "code",
   "execution_count": null,
   "id": "4541518d",
   "metadata": {},
   "outputs": [],
   "source": [
    "load_2018.head()"
   ]
  },
  {
   "cell_type": "code",
   "execution_count": null,
   "id": "4e255356",
   "metadata": {},
   "outputs": [],
   "source": [
    "load_2019.head()"
   ]
  },
  {
   "cell_type": "code",
   "execution_count": null,
   "id": "b89ace9f",
   "metadata": {},
   "outputs": [],
   "source": [
    "load_2020.head()"
   ]
  },
  {
   "cell_type": "code",
   "execution_count": null,
   "id": "fb1049c1",
   "metadata": {},
   "outputs": [],
   "source": [
    "load_2021.head()"
   ]
  },
  {
   "cell_type": "code",
   "execution_count": null,
   "id": "9ae38e36",
   "metadata": {},
   "outputs": [],
   "source": [
    "##Processing individual datasets, by renaming columns and removing unwanted rows\n",
    "load_2015.rename(columns={load_2015.columns[0]:\"date\",\n",
    "                                   load_2015.columns[1]:\"hour\",\n",
    "                                   load_2015.columns[2]:\"market_demand\",\n",
    "                                   load_2015.columns[3]:\"ontario_demand\"}, inplace=True)\n",
    "load_2015=load_2015.drop([0,1,2])\n",
    "load_2015.reset_index(inplace=True, drop=True)\n",
    "##Drop= true -Does not add the current index as a new column when set true. Do not try to insert index into dataframe columns. This resets the index to the default integer index.\n",
    "##Inplace = True - Modify the DataFrame in place (do not create a new object)."
   ]
  },
  {
   "cell_type": "code",
   "execution_count": null,
   "id": "0ad73ba0",
   "metadata": {},
   "outputs": [],
   "source": [
    "load_2015.head()"
   ]
  },
  {
   "cell_type": "code",
   "execution_count": null,
   "id": "88939735",
   "metadata": {},
   "outputs": [],
   "source": [
    "load_2016.rename(columns={load_2016.columns[0]:\"date\",\n",
    "                                   load_2016.columns[1]:\"hour\",\n",
    "                                   load_2016.columns[2]:\"market_demand\",\n",
    "                                   load_2016.columns[3]:\"ontario_demand\"}, inplace=True)\n",
    "load_2016=load_2016.drop([0,1,2])\n",
    "load_2016.reset_index(inplace=True, drop=True)"
   ]
  },
  {
   "cell_type": "code",
   "execution_count": null,
   "id": "f16e17e5",
   "metadata": {},
   "outputs": [],
   "source": [
    "load_2016.head()"
   ]
  },
  {
   "cell_type": "code",
   "execution_count": null,
   "id": "b996bf25",
   "metadata": {},
   "outputs": [],
   "source": [
    "load_2017.rename(columns={load_2017.columns[0]:\"date\",\n",
    "                                   load_2017.columns[1]:\"hour\",\n",
    "                                   load_2017.columns[2]:\"market_demand\",\n",
    "                                   load_2017.columns[3]:\"ontario_demand\"}, inplace=True)\n",
    "load_2017=load_2017.drop([0,1,2])\n",
    "load_2017.reset_index(inplace=True, drop=True)"
   ]
  },
  {
   "cell_type": "code",
   "execution_count": null,
   "id": "ece6fb8f",
   "metadata": {},
   "outputs": [],
   "source": [
    "load_2017.head()"
   ]
  },
  {
   "cell_type": "code",
   "execution_count": null,
   "id": "2c444cf0",
   "metadata": {},
   "outputs": [],
   "source": [
    "load_2018.rename(columns={load_2018.columns[0]:\"date\",\n",
    "                                   load_2018.columns[1]:\"hour\",\n",
    "                                   load_2018.columns[2]:\"market_demand\",\n",
    "                                   load_2018.columns[3]:\"ontario_demand\"}, inplace=True)\n",
    "load_2018=load_2018.drop([0,1,2])\n",
    "load_2018.reset_index(inplace=True, drop=True)"
   ]
  },
  {
   "cell_type": "code",
   "execution_count": null,
   "id": "0c5415a6",
   "metadata": {},
   "outputs": [],
   "source": [
    "load_2018.head()"
   ]
  },
  {
   "cell_type": "code",
   "execution_count": null,
   "id": "f1c3e18b",
   "metadata": {},
   "outputs": [],
   "source": [
    "load_2019.rename(columns={load_2019.columns[0]:\"date\",\n",
    "                                   load_2019.columns[1]:\"hour\",\n",
    "                                   load_2019.columns[2]:\"market_demand\",\n",
    "                                   load_2019.columns[3]:\"ontario_demand\"}, inplace=True)\n",
    "load_2019=load_2019.drop([0,1,2])\n",
    "load_2019.reset_index(inplace=True, drop=True)"
   ]
  },
  {
   "cell_type": "code",
   "execution_count": null,
   "id": "210874a8",
   "metadata": {},
   "outputs": [],
   "source": [
    "load_2020.rename(columns={load_2020.columns[0]:\"date\",\n",
    "                                   load_2020.columns[1]:\"hour\",\n",
    "                                   load_2020.columns[2]:\"market_demand\",\n",
    "                                   load_2020.columns[3]:\"ontario_demand\"}, inplace=True)\n",
    "load_2020=load_2020.drop([0,1,2])\n",
    "load_2020.reset_index(inplace=True, drop=True)"
   ]
  },
  {
   "cell_type": "code",
   "execution_count": null,
   "id": "a43d8309",
   "metadata": {},
   "outputs": [],
   "source": [
    "load_2021.rename(columns={load_2021.columns[0]:\"date\",\n",
    "                                   load_2021.columns[1]:\"hour\",\n",
    "                                   load_2021.columns[2]:\"market_demand\",\n",
    "                                   load_2021.columns[3]:\"ontario_demand\"}, inplace=True)\n",
    "load_2021=load_2021.drop([0,1,2])\n",
    "load_2021.reset_index(inplace=True, drop=True)"
   ]
  },
  {
   "cell_type": "code",
   "execution_count": null,
   "id": "7b7b06a6",
   "metadata": {},
   "outputs": [],
   "source": [
    "load = load_2015.append([load_2016,load_2017,load_2018,load_2019,load_2020,load_2021], ignore_index=True)\n",
    "##ignore_index = true - the resulting axis labelled 0,1,2,....n"
   ]
  },
  {
   "cell_type": "code",
   "execution_count": null,
   "id": "7c3b4e46",
   "metadata": {},
   "outputs": [],
   "source": [
    "load.head()"
   ]
  },
  {
   "cell_type": "code",
   "execution_count": null,
   "id": "827646ad",
   "metadata": {},
   "outputs": [],
   "source": [
    "print(load.shape)\n",
    "print(load_2015.shape)\n",
    "print(load_2016.shape)\n",
    "print(load_2017.shape)\n",
    "print(load_2018.shape)\n",
    "print(load_2019.shape)\n",
    "print(load_2020.shape)\n",
    "print(load_2021.shape)"
   ]
  },
  {
   "cell_type": "code",
   "execution_count": null,
   "id": "491448cf",
   "metadata": {},
   "outputs": [],
   "source": [
    "load"
   ]
  },
  {
   "cell_type": "code",
   "execution_count": null,
   "id": "92c88e71",
   "metadata": {},
   "outputs": [],
   "source": [
    "##checking datatypes\n",
    "load.dtypes"
   ]
  },
  {
   "cell_type": "code",
   "execution_count": null,
   "id": "5f2d8cec",
   "metadata": {},
   "outputs": [],
   "source": [
    "##setting datatypes of columns:\n",
    "load['date']=pd.to_datetime(load['date'])\n",
    "load['hour']=pd.to_numeric(load['hour'])\n",
    "load['market_demand']=load.market_demand.astype(float)\n",
    "load['ontario_demand']=load.ontario_demand.astype(float)"
   ]
  },
  {
   "cell_type": "code",
   "execution_count": null,
   "id": "47111099",
   "metadata": {},
   "outputs": [],
   "source": [
    "load=load.set_index('date')"
   ]
  },
  {
   "cell_type": "code",
   "execution_count": null,
   "id": "54afe121",
   "metadata": {},
   "outputs": [],
   "source": [
    "load.head()"
   ]
  },
  {
   "cell_type": "code",
   "execution_count": null,
   "id": "83fd9bb3",
   "metadata": {},
   "outputs": [],
   "source": [
    "load.index"
   ]
  },
  {
   "cell_type": "code",
   "execution_count": null,
   "id": "fc0475e8",
   "metadata": {},
   "outputs": [],
   "source": [
    "##creating hourly and daily load dataset for analysis \n",
    "load_hourly = load\n",
    "load_daily = load.resample('D').sum()\n",
    "##Resampling the dataset by day of the date time index specified to eliminate hourly data.\n",
    "##https://www.earthdatascience.org/courses/use-data-open-source-python/use-time-series-data-in-python/date-time-types-in-pandas-python/resample-time-series-data-pandas-python/"
   ]
  },
  {
   "cell_type": "code",
   "execution_count": null,
   "id": "25a2d40b",
   "metadata": {
    "scrolled": true
   },
   "outputs": [],
   "source": [
    "##Adding year, month, day columns to dataframe\n",
    "load_daily['year']=load_daily.index.year\n",
    "load_daily['month']=load_daily.index.month\n",
    "load_daily['weekday']=load_daily.index.day_name()\n",
    "load_daily.head(10)"
   ]
  },
  {
   "cell_type": "code",
   "execution_count": null,
   "id": "392bb523",
   "metadata": {},
   "outputs": [],
   "source": [
    "load_daily.shape"
   ]
  },
  {
   "cell_type": "markdown",
   "id": "ad57b3d1",
   "metadata": {},
   "source": [
    "# Preprocessing Weather data"
   ]
  },
  {
   "cell_type": "code",
   "execution_count": null,
   "id": "9391f8b9",
   "metadata": {},
   "outputs": [],
   "source": [
    "##Import weather data\n",
    "weather_2015=pd.read_csv('weather/en_climate_daily_ON_6158355_2015_P1D.csv')\n",
    "weather_2016=pd.read_csv('weather/en_climate_daily_ON_6158355_2016_P1D.csv')\n",
    "weather_2017=pd.read_csv('weather/en_climate_daily_ON_6158355_2017_P1D.csv')\n",
    "weather_2018=pd.read_csv('weather/en_climate_daily_ON_6158355_2018_P1D.csv')\n",
    "weather_2019=pd.read_csv('weather/en_climate_daily_ON_6158355_2019_P1D.csv')\n",
    "weather_2020=pd.read_csv('weather/en_climate_daily_ON_6158355_2020_P1D.csv')\n",
    "weather_2021=pd.read_csv('weather/en_climate_daily_ON_6158355_2021_P1D.csv')"
   ]
  },
  {
   "cell_type": "code",
   "execution_count": null,
   "id": "d692c81d",
   "metadata": {},
   "outputs": [],
   "source": [
    "weather = weather_2015.append([weather_2016,weather_2017,weather_2018,weather_2019,weather_2020,weather_2021], ignore_index=True)"
   ]
  },
  {
   "cell_type": "code",
   "execution_count": null,
   "id": "855272fb",
   "metadata": {},
   "outputs": [],
   "source": [
    "weather.head()"
   ]
  },
  {
   "cell_type": "code",
   "execution_count": null,
   "id": "e95b67e0",
   "metadata": {},
   "outputs": [],
   "source": [
    "print(weather_2015.shape)\n",
    "print(weather_2016.shape)\n",
    "print(weather_2017.shape)\n",
    "print(weather_2018.shape)\n",
    "print(weather_2019.shape)\n",
    "print(weather_2020.shape)\n",
    "print(weather_2021.shape)\n",
    "print(weather.shape)"
   ]
  },
  {
   "cell_type": "code",
   "execution_count": null,
   "id": "b9e23558",
   "metadata": {},
   "outputs": [],
   "source": [
    "weather.dtypes"
   ]
  },
  {
   "cell_type": "code",
   "execution_count": null,
   "id": "11709de8",
   "metadata": {},
   "outputs": [],
   "source": [
    "##setting datatypes of columns:\n",
    "weather['date']=pd.to_datetime(weather['Date/Time'])"
   ]
  },
  {
   "cell_type": "code",
   "execution_count": null,
   "id": "130a8be2",
   "metadata": {},
   "outputs": [],
   "source": [
    "weather=weather.set_index('date')"
   ]
  },
  {
   "cell_type": "code",
   "execution_count": null,
   "id": "a57c3d38",
   "metadata": {
    "scrolled": true
   },
   "outputs": [],
   "source": [
    "weather"
   ]
  },
  {
   "cell_type": "markdown",
   "id": "c5566e2d",
   "metadata": {},
   "source": [
    "# PreProcess Mobility data"
   ]
  },
  {
   "cell_type": "code",
   "execution_count": null,
   "id": "c5c1d66b",
   "metadata": {},
   "outputs": [],
   "source": [
    "##Import mobility data\n",
    "mobility_2020=pd.read_csv('mobility/2020_CA_Region_Mobility_Report.csv')\n",
    "mobility_2021=pd.read_csv('mobility/2021_CA_Region_Mobility_Report.csv')"
   ]
  },
  {
   "cell_type": "code",
   "execution_count": null,
   "id": "165cd180",
   "metadata": {},
   "outputs": [],
   "source": [
    "print(mobility_2020.shape)\n",
    "print(mobility_2021.shape)"
   ]
  },
  {
   "cell_type": "code",
   "execution_count": null,
   "id": "8be675c5",
   "metadata": {},
   "outputs": [],
   "source": [
    "mobility_google = mobility_2020.append(mobility_2021, ignore_index=True)"
   ]
  },
  {
   "cell_type": "code",
   "execution_count": null,
   "id": "8710dd6b",
   "metadata": {},
   "outputs": [],
   "source": [
    "mobility_google['date']=pd.to_datetime(mobility_google['date'])"
   ]
  },
  {
   "cell_type": "code",
   "execution_count": null,
   "id": "3dce89c6",
   "metadata": {},
   "outputs": [],
   "source": [
    "mobility_google = mobility_google.set_index('date')"
   ]
  },
  {
   "cell_type": "code",
   "execution_count": null,
   "id": "a3adb34a",
   "metadata": {},
   "outputs": [],
   "source": [
    "mobility_google"
   ]
  },
  {
   "cell_type": "code",
   "execution_count": null,
   "id": "e1bb1767",
   "metadata": {},
   "outputs": [],
   "source": [
    "mobility_google = mobility_google[(mobility_google['sub_region_1']=='Ontario') &\n",
    "               (mobility_google['sub_region_2']=='Toronto Division')]"
   ]
  },
  {
   "cell_type": "code",
   "execution_count": null,
   "id": "317a4421",
   "metadata": {},
   "outputs": [],
   "source": [
    "##Import mobility data\n",
    "mobility_apple=pd.read_csv('mobility/applemobilitytrends-2021-06-18 (1).csv')"
   ]
  },
  {
   "cell_type": "code",
   "execution_count": null,
   "id": "afb455aa",
   "metadata": {},
   "outputs": [],
   "source": [
    "mobility_apple.shape"
   ]
  },
  {
   "cell_type": "code",
   "execution_count": null,
   "id": "b585dcf1",
   "metadata": {},
   "outputs": [],
   "source": [
    "mobility_apple.head()"
   ]
  },
  {
   "cell_type": "code",
   "execution_count": null,
   "id": "b47b3059",
   "metadata": {},
   "outputs": [],
   "source": [
    "mobility_apple = mobility_apple[(mobility_apple['region']=='Ontario')]"
   ]
  },
  {
   "cell_type": "code",
   "execution_count": null,
   "id": "b4b6fdaf",
   "metadata": {},
   "outputs": [],
   "source": [
    "mobility_apple=mobility_apple.set_index('transportation_type')\n",
    "mobility_apple.head()"
   ]
  },
  {
   "cell_type": "code",
   "execution_count": null,
   "id": "ba530e38",
   "metadata": {},
   "outputs": [],
   "source": [
    "mobility_apple=mobility_apple.drop(['geo_type','region','alternative_name','sub-region','country'],axis=1)"
   ]
  },
  {
   "cell_type": "code",
   "execution_count": null,
   "id": "71fff034",
   "metadata": {},
   "outputs": [],
   "source": [
    "mobility_apple.head()"
   ]
  },
  {
   "cell_type": "code",
   "execution_count": null,
   "id": "671fb1d2",
   "metadata": {},
   "outputs": [],
   "source": [
    "mobility_apple=mobility_apple.transpose()"
   ]
  },
  {
   "cell_type": "code",
   "execution_count": null,
   "id": "1c37d4ed",
   "metadata": {},
   "outputs": [],
   "source": [
    "mobility_apple.head()"
   ]
  },
  {
   "cell_type": "code",
   "execution_count": null,
   "id": "6f53ef7d",
   "metadata": {},
   "outputs": [],
   "source": [
    "mobility_apple=mobility_apple.reset_index()"
   ]
  },
  {
   "cell_type": "code",
   "execution_count": null,
   "id": "dc868c4a",
   "metadata": {},
   "outputs": [],
   "source": [
    "mobility_apple.dtypes"
   ]
  },
  {
   "cell_type": "code",
   "execution_count": null,
   "id": "29227d72",
   "metadata": {},
   "outputs": [],
   "source": [
    "mobility_apple"
   ]
  },
  {
   "cell_type": "code",
   "execution_count": null,
   "id": "0e5f90b2",
   "metadata": {},
   "outputs": [],
   "source": [
    "mobility_apple=mobility_apple.rename(columns={'index':'date'})"
   ]
  },
  {
   "cell_type": "code",
   "execution_count": null,
   "id": "81562bfc",
   "metadata": {},
   "outputs": [],
   "source": [
    "mobility_apple['date']=pd.to_datetime(mobility_apple['date'])"
   ]
  },
  {
   "cell_type": "code",
   "execution_count": null,
   "id": "fcf2f183",
   "metadata": {},
   "outputs": [],
   "source": [
    "mobility_apple = mobility_apple.set_index('date')"
   ]
  },
  {
   "cell_type": "code",
   "execution_count": null,
   "id": "81cd4f5a",
   "metadata": {},
   "outputs": [],
   "source": [
    "mobility_apple.head()"
   ]
  },
  {
   "cell_type": "code",
   "execution_count": null,
   "id": "9b70d8c2",
   "metadata": {},
   "outputs": [],
   "source": [
    "print(mobility_apple.shape)\n",
    "print(mobility_google.shape)"
   ]
  },
  {
   "cell_type": "code",
   "execution_count": null,
   "id": "f251e8ef",
   "metadata": {},
   "outputs": [],
   "source": [
    "mobility=pd.concat([mobility_google,mobility_apple], axis=1)"
   ]
  },
  {
   "cell_type": "code",
   "execution_count": null,
   "id": "43aa01aa",
   "metadata": {},
   "outputs": [],
   "source": [
    "mobility.shape"
   ]
  },
  {
   "cell_type": "code",
   "execution_count": null,
   "id": "0eed3e3a",
   "metadata": {},
   "outputs": [],
   "source": [
    "mobility.head()"
   ]
  },
  {
   "cell_type": "code",
   "execution_count": null,
   "id": "371d4102",
   "metadata": {},
   "outputs": [],
   "source": [
    "forecast=pd.concat([load_daily,weather,mobility], axis=1)"
   ]
  },
  {
   "cell_type": "code",
   "execution_count": null,
   "id": "f10a7115",
   "metadata": {},
   "outputs": [],
   "source": [
    "forecast"
   ]
  },
  {
   "cell_type": "code",
   "execution_count": null,
   "id": "2ed3e789",
   "metadata": {},
   "outputs": [],
   "source": [
    "forecast.tail(500)"
   ]
  },
  {
   "cell_type": "code",
   "execution_count": null,
   "id": "63e0e0c7",
   "metadata": {},
   "outputs": [],
   "source": [
    "forecast=forecast.drop(['hour','Longitude (x)','Latitude (y)','Data Quality','Station Name','place_id','Climate ID'], axis=1)"
   ]
  },
  {
   "cell_type": "code",
   "execution_count": null,
   "id": "887cb60f",
   "metadata": {},
   "outputs": [],
   "source": [
    "forecast"
   ]
  }
 ],
 "metadata": {
  "kernelspec": {
   "display_name": "Python 3",
   "language": "python",
   "name": "python3"
  },
  "language_info": {
   "codemirror_mode": {
    "name": "ipython",
    "version": 3
   },
   "file_extension": ".py",
   "mimetype": "text/x-python",
   "name": "python",
   "nbconvert_exporter": "python",
   "pygments_lexer": "ipython3",
   "version": "3.8.8"
  }
 },
 "nbformat": 4,
 "nbformat_minor": 5
}
